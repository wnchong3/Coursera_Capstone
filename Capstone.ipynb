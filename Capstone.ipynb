{
    "cells": [
        {
            "metadata": {},
            "cell_type": "code",
            "source": "import pandas as pd\ndf = pd.read_csv('https://s3.us.cloud-object-storage.appdomain.cloud/cf-courses-data/CognitiveClass/DP0701EN/version-2/Data-Collisions.csv')\nprint(df.dtypes)",
            "execution_count": 2,
            "outputs": [
                {
                    "output_type": "stream",
                    "text": "/opt/conda/envs/Python-3.7-main/lib/python3.7/site-packages/IPython/core/interactiveshell.py:3063: DtypeWarning: Columns (33) have mixed types.Specify dtype option on import or set low_memory=False.\n  interactivity=interactivity, compiler=compiler, result=result)\n",
                    "name": "stderr"
                },
                {
                    "output_type": "stream",
                    "text": "SEVERITYCODE        int64\nX                 float64\nY                 float64\nOBJECTID            int64\nINCKEY              int64\nCOLDETKEY           int64\nREPORTNO           object\nSTATUS             object\nADDRTYPE           object\nINTKEY            float64\nLOCATION           object\nEXCEPTRSNCODE      object\nEXCEPTRSNDESC      object\nSEVERITYCODE.1      int64\nSEVERITYDESC       object\nCOLLISIONTYPE      object\nPERSONCOUNT         int64\nPEDCOUNT            int64\nPEDCYLCOUNT         int64\nVEHCOUNT            int64\nINCDATE            object\nINCDTTM            object\nJUNCTIONTYPE       object\nSDOT_COLCODE        int64\nSDOT_COLDESC       object\nINATTENTIONIND     object\nUNDERINFL          object\nWEATHER            object\nROADCOND           object\nLIGHTCOND          object\nPEDROWNOTGRNT      object\nSDOTCOLNUM        float64\nSPEEDING           object\nST_COLCODE         object\nST_COLDESC         object\nSEGLANEKEY          int64\nCROSSWALKKEY        int64\nHITPARKEDCAR       object\ndtype: object\n",
                    "name": "stdout"
                }
            ]
        },
        {
            "metadata": {},
            "cell_type": "code",
            "source": "df['WEATHER'].value_counts().to_frame()",
            "execution_count": 3,
            "outputs": [
                {
                    "output_type": "execute_result",
                    "execution_count": 3,
                    "data": {
                        "text/plain": "                          WEATHER\nClear                      111135\nRaining                     33145\nOvercast                    27714\nUnknown                     15091\nSnowing                       907\nOther                         832\nFog/Smog/Smoke                569\nSleet/Hail/Freezing Rain      113\nBlowing Sand/Dirt              56\nSevere Crosswind               25\nPartly Cloudy                   5",
                        "text/html": "<div>\n<style scoped>\n    .dataframe tbody tr th:only-of-type {\n        vertical-align: middle;\n    }\n\n    .dataframe tbody tr th {\n        vertical-align: top;\n    }\n\n    .dataframe thead th {\n        text-align: right;\n    }\n</style>\n<table border=\"1\" class=\"dataframe\">\n  <thead>\n    <tr style=\"text-align: right;\">\n      <th></th>\n      <th>WEATHER</th>\n    </tr>\n  </thead>\n  <tbody>\n    <tr>\n      <th>Clear</th>\n      <td>111135</td>\n    </tr>\n    <tr>\n      <th>Raining</th>\n      <td>33145</td>\n    </tr>\n    <tr>\n      <th>Overcast</th>\n      <td>27714</td>\n    </tr>\n    <tr>\n      <th>Unknown</th>\n      <td>15091</td>\n    </tr>\n    <tr>\n      <th>Snowing</th>\n      <td>907</td>\n    </tr>\n    <tr>\n      <th>Other</th>\n      <td>832</td>\n    </tr>\n    <tr>\n      <th>Fog/Smog/Smoke</th>\n      <td>569</td>\n    </tr>\n    <tr>\n      <th>Sleet/Hail/Freezing Rain</th>\n      <td>113</td>\n    </tr>\n    <tr>\n      <th>Blowing Sand/Dirt</th>\n      <td>56</td>\n    </tr>\n    <tr>\n      <th>Severe Crosswind</th>\n      <td>25</td>\n    </tr>\n    <tr>\n      <th>Partly Cloudy</th>\n      <td>5</td>\n    </tr>\n  </tbody>\n</table>\n</div>"
                    },
                    "metadata": {}
                }
            ]
        },
        {
            "metadata": {},
            "cell_type": "code",
            "source": "df['ROADCOND'].value_counts().to_frame()",
            "execution_count": 4,
            "outputs": [
                {
                    "output_type": "execute_result",
                    "execution_count": 4,
                    "data": {
                        "text/plain": "                ROADCOND\nDry               124510\nWet                47474\nUnknown            15078\nIce                 1209\nSnow/Slush          1004\nOther                132\nStanding Water       115\nSand/Mud/Dirt         75\nOil                   64",
                        "text/html": "<div>\n<style scoped>\n    .dataframe tbody tr th:only-of-type {\n        vertical-align: middle;\n    }\n\n    .dataframe tbody tr th {\n        vertical-align: top;\n    }\n\n    .dataframe thead th {\n        text-align: right;\n    }\n</style>\n<table border=\"1\" class=\"dataframe\">\n  <thead>\n    <tr style=\"text-align: right;\">\n      <th></th>\n      <th>ROADCOND</th>\n    </tr>\n  </thead>\n  <tbody>\n    <tr>\n      <th>Dry</th>\n      <td>124510</td>\n    </tr>\n    <tr>\n      <th>Wet</th>\n      <td>47474</td>\n    </tr>\n    <tr>\n      <th>Unknown</th>\n      <td>15078</td>\n    </tr>\n    <tr>\n      <th>Ice</th>\n      <td>1209</td>\n    </tr>\n    <tr>\n      <th>Snow/Slush</th>\n      <td>1004</td>\n    </tr>\n    <tr>\n      <th>Other</th>\n      <td>132</td>\n    </tr>\n    <tr>\n      <th>Standing Water</th>\n      <td>115</td>\n    </tr>\n    <tr>\n      <th>Sand/Mud/Dirt</th>\n      <td>75</td>\n    </tr>\n    <tr>\n      <th>Oil</th>\n      <td>64</td>\n    </tr>\n  </tbody>\n</table>\n</div>"
                    },
                    "metadata": {}
                }
            ]
        },
        {
            "metadata": {},
            "cell_type": "code",
            "source": "df_Weather=df.filter(['SEVERITYCODE', 'WEATHER')",
            "execution_count": null,
            "outputs": []
        }
    ],
    "metadata": {
        "kernelspec": {
            "name": "python3",
            "display_name": "Python 3.7",
            "language": "python"
        },
        "language_info": {
            "name": "python",
            "version": "3.7.9",
            "mimetype": "text/x-python",
            "codemirror_mode": {
                "name": "ipython",
                "version": 3
            },
            "pygments_lexer": "ipython3",
            "nbconvert_exporter": "python",
            "file_extension": ".py"
        }
    },
    "nbformat": 4,
    "nbformat_minor": 1
}